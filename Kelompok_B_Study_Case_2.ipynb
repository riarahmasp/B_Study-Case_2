{
  "nbformat": 4,
  "nbformat_minor": 0,
  "metadata": {
    "colab": {
      "provenance": [],
      "collapsed_sections": [],
      "include_colab_link": true
    },
    "kernelspec": {
      "name": "python3",
      "display_name": "Python 3"
    },
    "language_info": {
      "name": "python"
    }
  },
  "cells": [
    {
      "cell_type": "markdown",
      "metadata": {
        "id": "view-in-github",
        "colab_type": "text"
      },
      "source": [
        "<a href=\"https://colab.research.google.com/github/riarahmasp/B_Study-Case_2/blob/main/Kelompok_B_Study_Case_2.ipynb\" target=\"_parent\"><img src=\"https://colab.research.google.com/assets/colab-badge.svg\" alt=\"Open In Colab\"/></a>"
      ]
    },
    {
      "cell_type": "markdown",
      "source": [
        "<center><h2><strong><font color=\"blue\">Study Case 02 - Data Mining dan Business Intelligence:\n",
        "MixITup Ice Cream</font></strong></h2></center>"
      ],
      "metadata": {
        "id": "RupEX9p70kG_"
      }
    },
    {
      "cell_type": "markdown",
      "source": [
        "## **Kasus**"
      ],
      "metadata": {
        "id": "Khi6KX3haYrt"
      }
    },
    {
      "cell_type": "markdown",
      "source": [
        "* **MixITup** adalah perusahaan rintisan yang dimotori para anak muda yang bergerak di bidang usaha Ice Cream, Boba Drinks, dan Desserts (snacks)\n",
        "* Saat ini **MixITup** memiliki 3 cabang di Jakarta, Depok, dan Tangerang. **MixITup** mendapat respon positif di masyarakat, antrian dine-in dan pesan-antar produk **MixITup** melebihi kapasitas pelayanan.\n",
        "* Bulan lalu **MixITup** mendapatkan pendanaan seri B sebesar Rp. 33 Milyar,-\n",
        "* Rencananya **MixITup** ingin \"scale\" business-nya ke kota lain dan melakukan massive marketing.\n",
        "* Melalui iming-iming diskon 5% untuk beberapa item di tokonya dan pembagian voucher promo diskon, **MixITup** berhasil mengumpulkan data pelanggan melalui kartu membernya (loyality program).\n",
        "* Sebagai Data Analyst junior di **MixITup**, kami akan melakukan proses Data Mining dan memberikan informasi/insight dan saran/rekomendasi/strategi ke perusahaan via data.\n",
        "\n",
        "* Agar memudahkan upper management, kami membuat presentasi dalam format *google slides* yang dapat ditampilkan juga pada rapat direksi untuk memberikan insight dari data, presentasi dapat diakses pada link berikut: https://docs.google.com/presentation/d/1RiiVO9Afj2rwFE_BN09zYEdYchQOVugTrq9GnmHr0P4/edit?usp=sharing "
      ],
      "metadata": {
        "id": "YCLCeEFSaQXU"
      }
    },
    {
      "cell_type": "markdown",
      "source": [
        "## **PRE-PROCESSING DATA**"
      ],
      "metadata": {
        "id": "a08QCx9QE8tW"
      }
    },
    {
      "cell_type": "code",
      "source": [
        "pip install umap"
      ],
      "metadata": {
        "colab": {
          "base_uri": "https://localhost:8080/"
        },
        "id": "L1oU6OARFaJ1",
        "outputId": "77404146-b15f-40c7-cba6-c4f47e8470da"
      },
      "execution_count": null,
      "outputs": [
        {
          "output_type": "stream",
          "name": "stdout",
          "text": [
            "Looking in indexes: https://pypi.org/simple, https://us-python.pkg.dev/colab-wheels/public/simple/\n",
            "Collecting umap\n",
            "  Downloading umap-0.1.1.tar.gz (3.2 kB)\n",
            "Building wheels for collected packages: umap\n",
            "  Building wheel for umap (setup.py) ... \u001b[?25l\u001b[?25hdone\n",
            "  Created wheel for umap: filename=umap-0.1.1-py3-none-any.whl size=3565 sha256=b8b4239180fa5d306169b79e473781f91e6e23a18eb65ae4246a8a696321a275\n",
            "  Stored in directory: /root/.cache/pip/wheels/65/55/85/945cfb3d67373767e4dc3e9629300a926edde52633df4f0efe\n",
            "Successfully built umap\n",
            "Installing collected packages: umap\n",
            "Successfully installed umap-0.1.1\n"
          ]
        }
      ]
    },
    {
      "cell_type": "code",
      "source": [
        "#Import Modules yang diperlukan\n",
        "\n",
        "import warnings; warnings.simplefilter('ignore')\n",
        "import umap, numpy as np, matplotlib.pyplot as plt, pandas as pd, seaborn as sns\n",
        "from sklearn import cluster, datasets\n",
        "from sklearn.metrics import silhouette_score as siluet\n",
        "from sklearn.metrics.cluster import homogeneity_score as purity\n",
        "from sklearn.metrics import normalized_mutual_info_score as NMI\n",
        "from sklearn.cluster import KMeans\n",
        "from sklearn.preprocessing import MinMaxScaler\n",
        "\n",
        "sns.set(style='ticks', color_codes=True)\n",
        "random_state=99"
      ],
      "metadata": {
        "id": "yj-Sid2Z03Ib"
      },
      "execution_count": null,
      "outputs": []
    },
    {
      "cell_type": "code",
      "source": [
        "#IMPORT DATA\n",
        "\n",
        "# Loading Data:\n",
        "import pandas as pd\n",
        "\n",
        "try: # Running Locally, yakinkan \"file_\" berada di folder \"data\"\n",
        "    data = pd.read_csv(\"datanyaaaaaa\", low_memory = False, encoding='utf8')\n",
        "   except: # Running in Google Colab\n",
        "    !mkdir data\n",
        "    !wget -P data/ https://raw.githubusercontent.com/taufiksutanto/ADM-Case-01-EDA/master/data/jakarta.csv\n",
        "    data = pd.read_csv(\"datanyaaaaaa\", low_memory = False, encoding='utf8')\n",
        "    \n",
        "data.shape"
      ],
      "metadata": {
        "id": "lFSGXKT2JRGM"
      },
      "execution_count": null,
      "outputs": []
    },
    {
      "cell_type": "code",
      "source": [
        "#COMBINING DATASETS kalo lebih dari 1\n",
        "\n",
        "data = pd.concat([data1, data2, data3])\n",
        "\n",
        "data\n",
        "data.info()"
      ],
      "metadata": {
        "id": "9-x3LP0ELR75"
      },
      "execution_count": null,
      "outputs": []
    },
    {
      "cell_type": "code",
      "source": [
        "#DROPPING VARIABLES\n",
        "\n",
        "#Drop duplicates\n",
        "data.shape #(lihat shape)\n",
        "data.drop_duplicates()\n",
        "data.shape #recheck shape\n",
        "\n",
        "#Drop kolom ga penting\n",
        "data_kolom_bersih = data.drop(['xxx','yyy'],axis=1) #kalo udah yakin pake inplace=True\n",
        "\n"
      ],
      "metadata": {
        "id": "m4spHbTpKICi"
      },
      "execution_count": null,
      "outputs": []
    },
    {
      "cell_type": "code",
      "source": [
        "#HANDLE MISSING VALUES\n",
        "\n",
        "\n",
        "data.info() #cek tipe data\n",
        "data.isna().sum()\n",
        "\n",
        "#Lihat MV\n",
        "sns.heatmap(data.isnull(), cbar = False)\n",
        "plt.title('Heatmap Missing Values')\n",
        "plt.show\n",
        "\n",
        "#Ubah data type\n",
        "data['xxx'] = data['xxx'].astype('category/float64')\n",
        "\n",
        "#Isi missing value untuk tipe data float64 dengan rata-rata\n",
        "data_input_mean = data.fillna(data.mean()) #kalo udah yakin pake inplace = True\n",
        "\n",
        "#Isi MV dengan 0 dsb\n",
        "data['xxx'] = data['xxx'].fillna('0')"
      ],
      "metadata": {
        "id": "9S33bVjHTOPZ"
      },
      "execution_count": null,
      "outputs": []
    },
    {
      "cell_type": "code",
      "source": [
        "#HANDLE OUTLIERS\n",
        "\n",
        "#Cek outliers\n",
        "#Visualisasi ngeliat outliers\n",
        "\n",
        "#Catplot\n",
        "p_coba = sns.catplot(x = 'xxx', y = 'yyy', data = data)\n",
        "#Boxplot\n",
        "ax = sns.boxplot(x='xxx', y='yyy', data=data)\n",
        "\n",
        "#kalo ada,\n",
        "data_no_outlier = np.abs(data.'yyy' - data.'yyy'.mean())<=(2*data.'yyy'.std())\n",
        "#mu - 2s < x < mu + 2s\n",
        "print(data.shape)\n",
        "data_no_outlier.head()\n",
        "\n",
        "data_bersih = data[data_no_outlier]\n",
        "#Perbandingan shape data bersih dengan data yang ada outlier\n",
        "print(data_bersih.shape, data.shape)\n",
        "\n"
      ],
      "metadata": {
        "id": "MqR2H2HiTmNk"
      },
      "execution_count": null,
      "outputs": []
    },
    {
      "cell_type": "markdown",
      "source": [
        "## **EDA**"
      ],
      "metadata": {
        "id": "ne_fT4smFGzU"
      }
    },
    {
      "cell_type": "markdown",
      "source": [
        "Yang ingin dijawab:\n",
        "\n",
        "\n",
        "1.   Kota mana yang cocok untuk dibangun cabang usaha\n",
        "2.   Marketing apa yang sesuai untuk usaha\n",
        "3. Promo produk apa yang harus disediakan di hari tertentu \n",
        "4. Produk apa yang diminati oleh kalangan tertentu, mungkin berdasarkan kota, jenis kelamin, pendapatan (ini sabi pake clustering)\n",
        "5. Spending power tiap kota, kota mana yang berpotensi lebih suka jajan dibanding yang lain\n",
        "\n"
      ],
      "metadata": {
        "id": "IDiDEMsNUPuI"
      }
    },
    {
      "cell_type": "code",
      "source": [
        "#1&5, pake fungsi count kota\n",
        "#mungkin bisa diliat ke kota yg dikit cabangnya, rekomendasikan disitu.\n",
        "#cek spending power (skor pengeluaran) masyarakat kota tsb, kalo tinggi, gas.\n",
        "\n",
        "#2-4, segregasi konsumen per kota. cek harifav, flavorfav, & promo"
      ],
      "metadata": {
        "id": "17I1n6RRFI4b"
      },
      "execution_count": null,
      "outputs": []
    },
    {
      "cell_type": "markdown",
      "source": [
        "## **CLUSTERING ANALYSIS**"
      ],
      "metadata": {
        "id": "o2qdjE6qQLDY"
      }
    },
    {
      "cell_type": "code",
      "source": [
        "#MENENTUKAN NILAI K OPTIMUM\n",
        "\n",
        "#Membagi jenis data based on data type,\n",
        "cat_var = ['aaa','bbb'] #Data kategori\n",
        "cont_var = ['xxx','yyy'] #Data numerik kontinu\n",
        "\n",
        "#Ubah data kategorik ke dalam bentuk binary\n",
        "for col in cat_var:\n",
        "  dummies = pd.get_dummies(data[col],prefix=col)\n",
        "  data = pd.concat([data, dummies], axis=1)\n",
        "  data.drop(col, axis=1, inplace=True)\n",
        "\n",
        "data.head()\n",
        "\n",
        "\n",
        "#Scaling variabel kolom numerik kontinu\n",
        "mms = MinMaxScaler()\n",
        "mms.fit(data)\n",
        "data_transformed = mms.transform(data)\n",
        "\n",
        "#Untuk setiap nilai k, akan diinisialisasi k-means dan inertianya untuk\n",
        "#identifikasi squared distance sampel ke cluster terdekat\n",
        "\n",
        "ss_distance = []\n",
        "K = range(1,15)\n",
        "for k in K:\n",
        "  km = KMeans(n_clusters = k)\n",
        "  km = km.fit(data_transformed)\n",
        "  ss_distance.append(km.inertia_)\n",
        "\n",
        "#Seiring nilai k bertambah, nilai sum of squared distance (ss_distance) \n",
        "#mendekati nol.\n",
        "\n",
        "#Plot Elbow Method:\n",
        "plt.plot(K, ss_distance, 'bx-')\n",
        "plt.xlabel('k')\n",
        "plt.ylabel('Sum of Squared Distance')\n",
        "plt.title('Elbow Method For Optimal k')\n",
        "plt.show()"
      ],
      "metadata": {
        "id": "5yknFyFyQKWH"
      },
      "execution_count": null,
      "outputs": []
    },
    {
      "cell_type": "code",
      "source": [
        "#K-MEANS++ CLUSTERING\n",
        "\n",
        "#Countplot\n",
        "k=3 #INGAT INPUT K YANG OPTIMUM OK\n",
        "kmPP = cluster.KMeans(n_clusters=k, init='k-means++', max_iter=300, tol=0.0001, n_jobs=-\n",
        "1, random_state = random_state)\n",
        "kmPP.fit(X)\n",
        "C_kmpp = kmPP.predict(X)\n",
        "sns.countplot(C_kmpp)\n",
        "C_kmpp[:10]\n",
        "\n",
        "#SubPlot\n",
        "fig, ax = plt.subplots()\n",
        "ax.scatter(X2D[:,0], X2D[:,1], c=C_kmpp)\n",
        "plt.show()\n"
      ],
      "metadata": {
        "id": "Q87ky4AifTi-"
      },
      "execution_count": null,
      "outputs": []
    },
    {
      "cell_type": "code",
      "source": [
        "#MINI BATCH K-MEANS++\n",
        "#Digunakan kalau batch nya kecil\n",
        "\n",
        "#CountPlot\n",
        "mbkmPP = cluster.MiniBatchKMeans(n_clusters=k, init='k-means++', max_iter=300,\n",
        "tol=0.0001, random_state = random_state)\n",
        "mbkmPP.fit(X)\n",
        "C_mbkmPP = mbkmPP.predict(X)\n",
        "sns.countplot(C_mbkmPP)\n",
        "C_mbkmPP[:10] \n",
        "\n",
        "#SubPlot\n",
        "fig, ax = plt.subplots()\n",
        "ax.scatter(X2D[:,0], X2D[:,1], c=C_mbkmPP)\n",
        "plt.show() "
      ],
      "metadata": {
        "id": "sC_KRqSicm3l"
      },
      "execution_count": null,
      "outputs": []
    }
  ]
}