{
  "nbformat": 4,
  "nbformat_minor": 0,
  "metadata": {
    "colab": {
      "provenance": [],
      "authorship_tag": "ABX9TyO73AzoZljUwa7P9rA58Avp",
      "include_colab_link": true
    },
    "kernelspec": {
      "name": "python3",
      "display_name": "Python 3"
    },
    "language_info": {
      "name": "python"
    }
  },
  "cells": [
    {
      "cell_type": "markdown",
      "metadata": {
        "id": "view-in-github",
        "colab_type": "text"
      },
      "source": [
        "<a href=\"https://colab.research.google.com/github/riarahmasp/Kelompok-A_Study-Case_2/blob/main/Kelompok_A_Study_Case_2.ipynb\" target=\"_parent\"><img src=\"https://colab.research.google.com/assets/colab-badge.svg\" alt=\"Open In Colab\"/></a>"
      ]
    },
    {
      "cell_type": "markdown",
      "source": [
        "#**Study Case 2: MixITup Ice Cream**"
      ],
      "metadata": {
        "id": "RupEX9p70kG_"
      }
    },
    {
      "cell_type": "code",
      "source": [],
      "metadata": {
        "id": "yj-Sid2Z03Ib"
      },
      "execution_count": null,
      "outputs": []
    }
  ]
}